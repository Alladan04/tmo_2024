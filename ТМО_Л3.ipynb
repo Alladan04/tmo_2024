{
  "nbformat": 4,
  "nbformat_minor": 0,
  "metadata": {
    "colab": {
      "provenance": [],
      "collapsed_sections": [
        "sVK4B2J57jhW"
      ],
      "toc_visible": true
    },
    "kernelspec": {
      "name": "python3",
      "display_name": "Python 3"
    },
    "language_info": {
      "name": "python"
    }
  },
  "cells": [
    {
      "cell_type": "code",
      "execution_count": null,
      "metadata": {
        "id": "6CkmoVeiLjT1"
      },
      "outputs": [],
      "source": [
        "from IPython.display import Image\n",
        "import numpy as np\n",
        "import pandas as pd\n",
        "from sklearn.model_selection import train_test_split\n",
        "\n",
        "from sklearn.neighbors import KNeighborsRegressor, KNeighborsClassifier\n",
        "from sklearn.model_selection import cross_val_score, cross_validate\n",
        "from sklearn.model_selection import KFold, RepeatedKFold, LeaveOneOut, LeavePOut, ShuffleSplit, StratifiedKFold\n",
        "from sklearn.metrics import accuracy_score, balanced_accuracy_score\n",
        "from sklearn.metrics import precision_score, recall_score, f1_score, classification_report\n",
        "from sklearn.metrics import confusion_matrix\n",
        "from sklearn.metrics import mean_absolute_error, mean_squared_error, mean_squared_log_error, median_absolute_error, r2_score\n",
        "from sklearn.metrics import roc_curve, roc_auc_score\n",
        "from sklearn.model_selection import GridSearchCV, RandomizedSearchCV\n",
        "from sklearn.model_selection import learning_curve, validation_curve\n",
        "import seaborn as sns\n",
        "import matplotlib.pyplot as plt\n",
        "%matplotlib inline"
      ]
    },
    {
      "cell_type": "code",
      "source": [
        "data = pd.read_csv('./banana_quality.csv')\n",
        "data.head()"
      ],
      "metadata": {
        "id": "B2H3JBjoNaxo"
      },
      "execution_count": null,
      "outputs": []
    },
    {
      "cell_type": "markdown",
      "source": [
        "# Разделим датасет на тестовую и обучающую выборки"
      ],
      "metadata": {
        "id": "N4eNoEgRRdht"
      }
    },
    {
      "cell_type": "code",
      "source": [
        "from sklearn.model_selection import train_test_split\n",
        "from sklearn.preprocessing import LabelEncoder\n",
        "X = data.drop('Quality', axis=1)\n",
        "y = data['Quality']#ключевое значени\n",
        "label_encoder = LabelEncoder()\n",
        "y = data['Quality'] = label_encoder.fit_transform(data['Quality'])\n",
        "\n",
        "\n",
        "X_train, X_test, y_train, y_test = train_test_split(X, y, test_size=0.2, random_state=42)"
      ],
      "metadata": {
        "id": "UMKJeuX0QGrv"
      },
      "execution_count": null,
      "outputs": []
    },
    {
      "cell_type": "code",
      "source": [
        "def class_proportions(array: np.ndarray) :\n",
        "    \"\"\"\n",
        "    Вычисляет пропорции классов\n",
        "    array - массив, содержащий метки классов\n",
        "    \"\"\"\n",
        "    # Получение меток классов и количества меток каждого класса\n",
        "    labels, counts = np.unique(array, return_counts=True)\n",
        "    # Превращаем количество меток в процент их встречаемости\n",
        "    # делим количество меток каждого класса на общее количество меток\n",
        "    counts_perc = counts/array.size\n",
        "    # Теперь sum(counts_perc)==1.0\n",
        "    # Создаем результирующий словарь,\n",
        "    # ключом словаря явлется метка класса,\n",
        "    # а значением словаря процент встречаемости метки\n",
        "    res = dict()\n",
        "    for label, count2 in zip(labels, zip(counts, counts_perc)):\n",
        "        res[label] = count2\n",
        "    return res\n",
        "\n",
        "def print_class_proportions(array: np.ndarray):\n",
        "    \"\"\"\n",
        "    Вывод пропорций классов\n",
        "    \"\"\"\n",
        "    proportions = class_proportions(array)\n",
        "    if len(proportions)>0:\n",
        "        print('Метка \\t Количество \\t Процент встречаемости')\n",
        "    for i in proportions:\n",
        "        val, val_perc = proportions[i]\n",
        "        val_perc_100 = round(val_perc * 100, 2)\n",
        "        print('{} \\t {} \\t \\t {}%'.format(i, val, val_perc_100))"
      ],
      "metadata": {
        "id": "Hodum5G5QsId"
      },
      "execution_count": null,
      "outputs": []
    },
    {
      "cell_type": "code",
      "source": [
        "print_class_proportions(y_test)"
      ],
      "metadata": {
        "id": "3GMXXNJWQs56"
      },
      "execution_count": null,
      "outputs": []
    },
    {
      "cell_type": "code",
      "source": [
        "print_class_proportions(y_train)"
      ],
      "metadata": {
        "id": "b3bfSRSKRM4s"
      },
      "execution_count": null,
      "outputs": []
    },
    {
      "cell_type": "markdown",
      "source": [
        "# Построим модель на основе метода ближайших соседей для К=2 и К=10"
      ],
      "metadata": {
        "id": "P3TEXsk7RpQC"
      }
    },
    {
      "cell_type": "code",
      "source": [
        "# 2 ближайших соседа\n",
        "cl1_1 = KNeighborsClassifier(n_neighbors=2)\n",
        "cl1_1.fit(X_train, y_train)\n",
        "target1_1 = cl1_1.predict(X_test)\n",
        "len(target1_1), target1_1"
      ],
      "metadata": {
        "id": "LwbYU71qRmiL"
      },
      "execution_count": null,
      "outputs": []
    },
    {
      "cell_type": "code",
      "source": [
        "# 10 ближайших соседей\n",
        "cl1_2 = KNeighborsClassifier(n_neighbors=10)\n",
        "cl1_2.fit(X_train, y_train)\n",
        "target1_2 = cl1_2.predict(X_test)\n",
        "len(target1_2), target1_2"
      ],
      "metadata": {
        "id": "QmvkNcFQbv_6"
      },
      "execution_count": null,
      "outputs": []
    },
    {
      "cell_type": "markdown",
      "source": [
        "# Оценка качества моделей (произвольной и оптимальной)"
      ],
      "metadata": {
        "id": "RjDnEElicwjD"
      }
    },
    {
      "cell_type": "markdown",
      "source": [
        "## Метрика Accuracy"
      ],
      "metadata": {
        "id": "cg9D3RCIdoJr"
      }
    },
    {
      "cell_type": "code",
      "source": [
        "balanced_accuracy_score(y_test, target1_1)#Для модели с К=2"
      ],
      "metadata": {
        "id": "IBKHfuDYc0oN"
      },
      "execution_count": null,
      "outputs": []
    },
    {
      "cell_type": "code",
      "source": [
        "balanced_accuracy_score(y_test, target1_2)#Для модели с К=10"
      ],
      "metadata": {
        "id": "FZI0eC8Wd-yD"
      },
      "execution_count": null,
      "outputs": []
    },
    {
      "cell_type": "markdown",
      "source": [
        "## Матрица ошибок"
      ],
      "metadata": {
        "id": "Ot7aIyRJeNTH"
      }
    },
    {
      "cell_type": "code",
      "source": [
        "#Для К=2\n",
        "tn, fp, fn, tp = confusion_matrix(y_test, target1_1).ravel()\n",
        "tn, fp, fn, tp"
      ],
      "metadata": {
        "id": "fV2Q4qyoeVci"
      },
      "execution_count": null,
      "outputs": []
    },
    {
      "cell_type": "code",
      "source": [
        "#Для К=10\n",
        "tn, fp, fn, tp = confusion_matrix(y_test, target1_2).ravel()\n",
        "tn, fp, fn, tp"
      ],
      "metadata": {
        "id": "GjqaDIfCfAT6"
      },
      "execution_count": null,
      "outputs": []
    },
    {
      "cell_type": "markdown",
      "source": [
        "## Метрика precision"
      ],
      "metadata": {
        "id": "u8qb7EvOfTDm"
      }
    },
    {
      "cell_type": "markdown",
      "source": [
        "Доля верно предсказанных классификатором положительных объектов, из всех объектов, которые классификатор верно или неверно определил как положительные."
      ],
      "metadata": {
        "id": "Tj8EkZXdfxzG"
      }
    },
    {
      "cell_type": "code",
      "source": [
        "#Для К=2\n",
        "precision_score(y_test, target1_1)"
      ],
      "metadata": {
        "id": "ydF6l8ZjfUiL"
      },
      "execution_count": null,
      "outputs": []
    },
    {
      "cell_type": "code",
      "source": [
        "#Для К=10\n",
        "precision_score(y_test, target1_2)"
      ],
      "metadata": {
        "id": "Gj2t7P3CgJ3P"
      },
      "execution_count": null,
      "outputs": []
    },
    {
      "cell_type": "markdown",
      "source": [
        "## Метрика recall"
      ],
      "metadata": {
        "id": "f64Tm6kkgNz1"
      }
    },
    {
      "cell_type": "markdown",
      "source": [
        "Доля верно предсказанных классификатором положительных объектов, из всех действительно положительных объектов.\n",
        "\n"
      ],
      "metadata": {
        "id": "QL-5r_CLgZ57"
      }
    },
    {
      "cell_type": "code",
      "source": [
        "#Для К=2\n",
        "recall_score(y_test, target1_1)"
      ],
      "metadata": {
        "id": "I27-r1nJgZuG"
      },
      "execution_count": null,
      "outputs": []
    },
    {
      "cell_type": "code",
      "source": [
        "#Для К=10\n",
        "recall_score(y_test, target1_2)"
      ],
      "metadata": {
        "id": "8G7cB-MngpOP"
      },
      "execution_count": null,
      "outputs": []
    },
    {
      "cell_type": "markdown",
      "source": [
        "## F-мера"
      ],
      "metadata": {
        "id": "YAt-3Cofg1rA"
      }
    },
    {
      "cell_type": "markdown",
      "source": [
        "Для того, чтобы объединить precision и recall в единую метрику используется Fβ\n",
        "-мера, которая вычисляется как среднее гармоническое от precision и recall:"
      ],
      "metadata": {
        "id": "mplybYsHg3vf"
      }
    },
    {
      "cell_type": "code",
      "source": [
        "#Для К=2\n",
        "f1_score(y_test,target1_1)"
      ],
      "metadata": {
        "id": "17rKi3lFhEPp"
      },
      "execution_count": null,
      "outputs": []
    },
    {
      "cell_type": "code",
      "source": [
        "#Для К=10\n",
        "f1_score(y_test,target1_2)"
      ],
      "metadata": {
        "id": "gHmC0pichMUZ"
      },
      "execution_count": null,
      "outputs": []
    },
    {
      "cell_type": "markdown",
      "source": [
        "Выведем метрики для каждого из классов"
      ],
      "metadata": {
        "id": "0bMaeL-3hg07"
      }
    },
    {
      "cell_type": "code",
      "source": [
        "#Для К=2\n",
        "classification_report(y_test, target1_1,\n",
        "                      target_names=[\"Bad\", \"Good\"], output_dict=True)"
      ],
      "metadata": {
        "id": "uWusQK_IhkvV"
      },
      "execution_count": null,
      "outputs": []
    },
    {
      "cell_type": "code",
      "source": [
        "#Для К=10\n",
        "classification_report(y_test, target1_1,\n",
        "                      target_names=[\"Bad\", \"Good\"], output_dict=True)"
      ],
      "metadata": {
        "id": "CaWE89vmh4Gu"
      },
      "execution_count": null,
      "outputs": []
    },
    {
      "cell_type": "markdown",
      "source": [
        "## ROC-кривая и ROC AUC"
      ],
      "metadata": {
        "id": "3OiA5PV2h8yZ"
      }
    },
    {
      "cell_type": "code",
      "source": [
        "def draw_roc_curve(y_true, y_score, pos_label, average):\n",
        "    fpr, tpr, thresholds = roc_curve(y_true, y_score,\n",
        "                                     pos_label=pos_label)\n",
        "    roc_auc_value = roc_auc_score(y_true, y_score, average=average)\n",
        "    plt.figure()\n",
        "    lw = 2\n",
        "    plt.plot(fpr, tpr, color='darkorange',\n",
        "             lw=lw, label='ROC curve (area = %0.2f)' % roc_auc_value)\n",
        "    plt.plot([0, 1], [0, 1], color='navy', lw=lw, linestyle='--')\n",
        "    plt.xlim([0.0, 1.0])\n",
        "    plt.ylim([0.0, 1.05])\n",
        "    plt.xlabel('False Positive Rate')\n",
        "    plt.ylabel('True Positive Rate')\n",
        "    plt.title('Receiver operating characteristic example')\n",
        "    plt.legend(loc=\"lower right\")\n",
        "    plt.show()"
      ],
      "metadata": {
        "id": "nAjA_xy8wGbG"
      },
      "execution_count": null,
      "outputs": []
    },
    {
      "cell_type": "code",
      "source": [
        "# Для 2 ближайших соседей\n",
        "draw_roc_curve(y_test, target1_1, pos_label=1, average='micro')"
      ],
      "metadata": {
        "id": "XI6tiAaewMq4"
      },
      "execution_count": null,
      "outputs": []
    },
    {
      "cell_type": "code",
      "source": [
        "#Для 10 ближайших соседей\n",
        "draw_roc_curve(y_test, target1_2, pos_label=1, average='micro')"
      ],
      "metadata": {
        "id": "Eb5To-0XwXiV"
      },
      "execution_count": null,
      "outputs": []
    },
    {
      "cell_type": "markdown",
      "source": [
        "# Кросс-валидация"
      ],
      "metadata": {
        "id": "BLxDhUmX2DvQ"
      }
    },
    {
      "cell_type": "markdown",
      "source": [
        "## Автоматический выбор стратегии кросс-валидации"
      ],
      "metadata": {
        "id": "E62DMqC45GlX"
      }
    },
    {
      "cell_type": "code",
      "source": [
        "scoring = {'precision': 'precision_weighted',\n",
        "           'recall': 'recall_weighted',\n",
        "           'f1': 'f1_weighted'}\n",
        "scores = cross_validate(KNeighborsClassifier(n_neighbors=2),\n",
        "                        data, y, scoring=scoring,\n",
        "                        cv=3, return_train_score=True)\n",
        "scores"
      ],
      "metadata": {
        "id": "fD4JsKrc4gEA"
      },
      "execution_count": null,
      "outputs": []
    },
    {
      "cell_type": "markdown",
      "source": [
        "##Стратегия Kfold"
      ],
      "metadata": {
        "id": "i47kiCZl5K6H"
      }
    },
    {
      "cell_type": "code",
      "source": [
        "kf = KFold(n_splits=5)\n",
        "scores = cross_val_score(KNeighborsClassifier(n_neighbors=2),\n",
        "                         data, y, scoring='f1_weighted',\n",
        "                         cv=kf)\n",
        "scores"
      ],
      "metadata": {
        "id": "sd7rdOl15Oze"
      },
      "execution_count": null,
      "outputs": []
    },
    {
      "cell_type": "code",
      "source": [
        "kf = KFold(n_splits=5)\n",
        "scores = cross_validate(KNeighborsClassifier(n_neighbors=2),\n",
        "                        data, y, scoring=scoring,\n",
        "                        cv=kf, return_train_score=True)\n",
        "scores"
      ],
      "metadata": {
        "id": "TQ9eVHWG5hkB"
      },
      "execution_count": null,
      "outputs": []
    },
    {
      "cell_type": "markdown",
      "source": [
        "##Стратегия Repeated K-Fold"
      ],
      "metadata": {
        "id": "EQ2PkOTx6Af-"
      }
    },
    {
      "cell_type": "code",
      "source": [
        "kf = RepeatedKFold(n_splits=5, n_repeats=3)\n",
        "scores = cross_validate(KNeighborsClassifier(n_neighbors=2),\n",
        "                        data, y, scoring=scoring,\n",
        "                        cv=kf, return_train_score=True)\n",
        "scores"
      ],
      "metadata": {
        "id": "8CR1ThqW6Fgc"
      },
      "execution_count": null,
      "outputs": []
    },
    {
      "cell_type": "markdown",
      "source": [
        "## Стратегия Leave One Out (LРO) и стратегия Leave P Out"
      ],
      "metadata": {
        "id": "V4SefHCq6dgO"
      }
    },
    {
      "cell_type": "markdown",
      "source": [
        "не эффективны на большой выборке"
      ],
      "metadata": {
        "id": "G5SD2yYq8jku"
      }
    },
    {
      "cell_type": "markdown",
      "source": [
        "##Стратегия ShuffleSplit"
      ],
      "metadata": {
        "id": "sVK4B2J57jhW"
      }
    },
    {
      "cell_type": "code",
      "source": [
        "kf = ShuffleSplit(n_splits=5, test_size=0.25)\n",
        "scores = cross_validate(KNeighborsClassifier(n_neighbors=2),\n",
        "                        data, y, scoring=scoring,\n",
        "                        cv=kf, return_train_score=True)\n",
        "scores"
      ],
      "metadata": {
        "id": "nSn1VM4p7npI"
      },
      "execution_count": null,
      "outputs": []
    },
    {
      "cell_type": "markdown",
      "source": [
        "# Оптимизация"
      ],
      "metadata": {
        "id": "RK6-P8Hvx1pz"
      }
    },
    {
      "cell_type": "markdown",
      "source": [
        "## GridSearch"
      ],
      "metadata": {
        "id": "7IsLMAjl9Jn_"
      }
    },
    {
      "cell_type": "code",
      "source": [
        "n_range = np.array(range(5,55,5))\n",
        "tuned_parameters = [{'n_neighbors': n_range}]\n",
        "tuned_parameters"
      ],
      "metadata": {
        "id": "GS4vzfErx7i5"
      },
      "execution_count": null,
      "outputs": []
    },
    {
      "cell_type": "code",
      "source": [
        "%%time\n",
        "clf_gs = GridSearchCV(KNeighborsClassifier(), tuned_parameters, cv=5, scoring='accuracy')\n",
        "clf_gs.fit(X_train, y_train)"
      ],
      "metadata": {
        "id": "V4i9p5inx98V"
      },
      "execution_count": null,
      "outputs": []
    },
    {
      "cell_type": "code",
      "source": [
        "clf_gs.cv_results_"
      ],
      "metadata": {
        "id": "bY7f_VX7zUlO"
      },
      "execution_count": null,
      "outputs": []
    },
    {
      "cell_type": "code",
      "source": [
        "# Лучшее значение метрики и лучшее значение параметров\n",
        "(clf_gs.best_score_, clf_gs.best_params_)"
      ],
      "metadata": {
        "id": "7OL7SuQezliA"
      },
      "execution_count": null,
      "outputs": []
    },
    {
      "cell_type": "code",
      "source": [
        "# Изменение качества на тестовой выборке в зависимости от К-соседей\n",
        "plt.plot(n_range, clf_gs.cv_results_['mean_test_score'])"
      ],
      "metadata": {
        "id": "GVVnkIfVzuTO"
      },
      "execution_count": null,
      "outputs": []
    },
    {
      "cell_type": "markdown",
      "source": [
        "## RandomizedSearch"
      ],
      "metadata": {
        "id": "YpDUDMpsz5BU"
      }
    },
    {
      "cell_type": "code",
      "source": [
        "%%time\n",
        "clf_rs = RandomizedSearchCV(KNeighborsClassifier(), tuned_parameters, cv=5, scoring='accuracy')\n",
        "clf_rs.fit(X_train, y_train)"
      ],
      "metadata": {
        "id": "ohygGdpxz-DC"
      },
      "execution_count": null,
      "outputs": []
    },
    {
      "cell_type": "code",
      "source": [
        "clf_rs.best_score_, clf_rs.best_params_"
      ],
      "metadata": {
        "id": "c3R0s3Kt0M4t"
      },
      "execution_count": null,
      "outputs": []
    },
    {
      "cell_type": "code",
      "source": [
        "# Изменение качества на тестовой выборке в зависимости от К-соседей\n",
        "plt.plot(n_range, clf_rs.cv_results_['mean_test_score'])"
      ],
      "metadata": {
        "id": "Cz4sW-tV0bbI"
      },
      "execution_count": null,
      "outputs": []
    }
  ]
}